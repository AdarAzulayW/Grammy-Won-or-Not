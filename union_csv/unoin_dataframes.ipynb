{
 "cells": [
  {
   "cell_type": "code",
   "execution_count": 49,
   "id": "923a1677",
   "metadata": {},
   "outputs": [],
   "source": [
    "import requests as rq\n",
    "import pandas as pd\n",
    "from bs4 import BeautifulSoup as bs\n",
    "import numpy as np\n"
   ]
  },
  {
   "cell_type": "code",
   "execution_count": 50,
   "id": "e7eb28f2",
   "metadata": {},
   "outputs": [],
   "source": [
    "df1 = pd.read_csv(\"2022-2018.csv\")\n",
    "df2 = pd.read_csv(\"2018-2008.csv\")\n",
    "df3 = pd.read_csv(\"2008-1998.csv\")\n",
    "df4 = pd.read_csv(\"1998-1993.csv\")\n",
    "df5 = pd.read_csv(\"1993-1988.csv\")\n",
    "df6 = pd.read_csv(\"1988-1983.csv\")\n",
    "df7 = pd.read_csv(\"1983-1978.csv\")\n",
    "df8 = pd.read_csv(\"1978-1973.csv\")\n",
    "df9 = pd.read_csv(\"1973-1968.csv\")\n",
    "df10 = pd.read_csv(\"1968-1963.csv\")\n",
    "df11 = pd.read_csv(\"1963-1958.csv\")"
   ]
  },
  {
   "cell_type": "code",
   "execution_count": 51,
   "id": "af47bdcf",
   "metadata": {},
   "outputs": [
    {
     "name": "stderr",
     "output_type": "stream",
     "text": [
      "/var/folders/zb/05pykmh92cg9gsbb1776h6480000gn/T/ipykernel_6734/4279501369.py:6: FutureWarning: The frame.append method is deprecated and will be removed from pandas in a future version. Use pandas.concat instead.\n",
      "  df1 = df1.append(DF)\n",
      "/var/folders/zb/05pykmh92cg9gsbb1776h6480000gn/T/ipykernel_6734/4279501369.py:6: FutureWarning: The frame.append method is deprecated and will be removed from pandas in a future version. Use pandas.concat instead.\n",
      "  df1 = df1.append(DF)\n",
      "/var/folders/zb/05pykmh92cg9gsbb1776h6480000gn/T/ipykernel_6734/4279501369.py:6: FutureWarning: The frame.append method is deprecated and will be removed from pandas in a future version. Use pandas.concat instead.\n",
      "  df1 = df1.append(DF)\n",
      "/var/folders/zb/05pykmh92cg9gsbb1776h6480000gn/T/ipykernel_6734/4279501369.py:6: FutureWarning: The frame.append method is deprecated and will be removed from pandas in a future version. Use pandas.concat instead.\n",
      "  df1 = df1.append(DF)\n",
      "/var/folders/zb/05pykmh92cg9gsbb1776h6480000gn/T/ipykernel_6734/4279501369.py:6: FutureWarning: The frame.append method is deprecated and will be removed from pandas in a future version. Use pandas.concat instead.\n",
      "  df1 = df1.append(DF)\n",
      "/var/folders/zb/05pykmh92cg9gsbb1776h6480000gn/T/ipykernel_6734/4279501369.py:6: FutureWarning: The frame.append method is deprecated and will be removed from pandas in a future version. Use pandas.concat instead.\n",
      "  df1 = df1.append(DF)\n",
      "/var/folders/zb/05pykmh92cg9gsbb1776h6480000gn/T/ipykernel_6734/4279501369.py:6: FutureWarning: The frame.append method is deprecated and will be removed from pandas in a future version. Use pandas.concat instead.\n",
      "  df1 = df1.append(DF)\n",
      "/var/folders/zb/05pykmh92cg9gsbb1776h6480000gn/T/ipykernel_6734/4279501369.py:6: FutureWarning: The frame.append method is deprecated and will be removed from pandas in a future version. Use pandas.concat instead.\n",
      "  df1 = df1.append(DF)\n",
      "/var/folders/zb/05pykmh92cg9gsbb1776h6480000gn/T/ipykernel_6734/4279501369.py:6: FutureWarning: The frame.append method is deprecated and will be removed from pandas in a future version. Use pandas.concat instead.\n",
      "  df1 = df1.append(DF)\n",
      "/var/folders/zb/05pykmh92cg9gsbb1776h6480000gn/T/ipykernel_6734/4279501369.py:6: FutureWarning: The frame.append method is deprecated and will be removed from pandas in a future version. Use pandas.concat instead.\n",
      "  df1 = df1.append(DF)\n"
     ]
    }
   ],
   "source": [
    "DFlist = [df1,df2,df3,df4,df5,df6,df7,df8,df9,df10,df11]\n",
    "\n",
    "should = df1.shape[0]\n",
    "\n",
    "for DF in DFlist:\n",
    "    df1 = df1.append(DF)\n",
    "    should = should + DF.shape[0]"
   ]
  },
  {
   "cell_type": "code",
   "execution_count": 52,
   "id": "97469672",
   "metadata": {},
   "outputs": [
    {
     "data": {
      "text/plain": [
       "26463"
      ]
     },
     "execution_count": 52,
     "metadata": {},
     "output_type": "execute_result"
    }
   ],
   "source": [
    "should"
   ]
  },
  {
   "cell_type": "code",
   "execution_count": 53,
   "id": "d70b8630",
   "metadata": {},
   "outputs": [
    {
     "data": {
      "text/plain": [
       "26463"
      ]
     },
     "execution_count": 53,
     "metadata": {},
     "output_type": "execute_result"
    }
   ],
   "source": [
    "df1.shape[0]\n"
   ]
  },
  {
   "cell_type": "code",
   "execution_count": 54,
   "id": "7747d618",
   "metadata": {},
   "outputs": [],
   "source": [
    "df1.to_csv(\"TotalDataFrame.csv\", encoding=\"utf-8-sig\")\n"
   ]
  },
  {
   "cell_type": "code",
   "execution_count": 55,
   "id": "39aa88d7",
   "metadata": {},
   "outputs": [
    {
     "data": {
      "text/html": [
       "<div>\n",
       "<style scoped>\n",
       "    .dataframe tbody tr th:only-of-type {\n",
       "        vertical-align: middle;\n",
       "    }\n",
       "\n",
       "    .dataframe tbody tr th {\n",
       "        vertical-align: top;\n",
       "    }\n",
       "\n",
       "    .dataframe thead th {\n",
       "        text-align: right;\n",
       "    }\n",
       "</style>\n",
       "<table border=\"1\" class=\"dataframe\">\n",
       "  <thead>\n",
       "    <tr style=\"text-align: right;\">\n",
       "      <th></th>\n",
       "      <th>Song Name</th>\n",
       "      <th>Artist Name</th>\n",
       "      <th>Album Name</th>\n",
       "      <th>Release Date</th>\n",
       "      <th>Popularity Score</th>\n",
       "      <th>Length (ms)</th>\n",
       "      <th>Grammy_won</th>\n",
       "    </tr>\n",
       "  </thead>\n",
       "  <tbody>\n",
       "    <tr>\n",
       "      <th>0</th>\n",
       "      <td>About Damn Time</td>\n",
       "      <td>Lizzo</td>\n",
       "      <td>About Damn Time</td>\n",
       "      <td>2022-04-14</td>\n",
       "      <td>81.0</td>\n",
       "      <td>191822.0</td>\n",
       "      <td>1</td>\n",
       "    </tr>\n",
       "    <tr>\n",
       "      <th>1</th>\n",
       "      <td>Harry's House</td>\n",
       "      <td>Harry Styles</td>\n",
       "      <td>NaN</td>\n",
       "      <td>NaN</td>\n",
       "      <td>NaN</td>\n",
       "      <td>NaN</td>\n",
       "      <td>1</td>\n",
       "    </tr>\n",
       "    <tr>\n",
       "      <th>2</th>\n",
       "      <td>JUST LIKE THAT</td>\n",
       "      <td>subhash nandu</td>\n",
       "      <td>JUST LIKE THAT</td>\n",
       "      <td>2023-01-01</td>\n",
       "      <td>5.0</td>\n",
       "      <td>104260.0</td>\n",
       "      <td>1</td>\n",
       "    </tr>\n",
       "    <tr>\n",
       "      <th>3</th>\n",
       "      <td>Samara Joy</td>\n",
       "      <td>NaN</td>\n",
       "      <td>NaN</td>\n",
       "      <td>NaN</td>\n",
       "      <td>NaN</td>\n",
       "      <td>NaN</td>\n",
       "      <td>1</td>\n",
       "    </tr>\n",
       "    <tr>\n",
       "      <th>4</th>\n",
       "      <td>Easy On Me</td>\n",
       "      <td>Adele</td>\n",
       "      <td>Easy On Me</td>\n",
       "      <td>2021-10-14</td>\n",
       "      <td>81.0</td>\n",
       "      <td>224694.0</td>\n",
       "      <td>1</td>\n",
       "    </tr>\n",
       "    <tr>\n",
       "      <th>...</th>\n",
       "      <td>...</td>\n",
       "      <td>...</td>\n",
       "      <td>...</td>\n",
       "      <td>...</td>\n",
       "      <td>...</td>\n",
       "      <td>...</td>\n",
       "      <td>...</td>\n",
       "    </tr>\n",
       "    <tr>\n",
       "      <th>999</th>\n",
       "      <td>Victoria: Requiem Mass (Album)</td>\n",
       "      <td>NaN</td>\n",
       "      <td>NaN</td>\n",
       "      <td>NaN</td>\n",
       "      <td>NaN</td>\n",
       "      <td>NaN</td>\n",
       "      <td>0</td>\n",
       "    </tr>\n",
       "    <tr>\n",
       "      <th>1000</th>\n",
       "      <td>Puccini: Madam Butterfly (Album)</td>\n",
       "      <td>NaN</td>\n",
       "      <td>NaN</td>\n",
       "      <td>NaN</td>\n",
       "      <td>NaN</td>\n",
       "      <td>NaN</td>\n",
       "      <td>0</td>\n",
       "    </tr>\n",
       "    <tr>\n",
       "      <th>1001</th>\n",
       "      <td>Donizetti: Lucia De Lammermoor (Album)</td>\n",
       "      <td>NaN</td>\n",
       "      <td>NaN</td>\n",
       "      <td>NaN</td>\n",
       "      <td>NaN</td>\n",
       "      <td>NaN</td>\n",
       "      <td>0</td>\n",
       "    </tr>\n",
       "    <tr>\n",
       "      <th>1002</th>\n",
       "      <td>Barber: Vanessa (Album)</td>\n",
       "      <td>NaN</td>\n",
       "      <td>NaN</td>\n",
       "      <td>NaN</td>\n",
       "      <td>NaN</td>\n",
       "      <td>NaN</td>\n",
       "      <td>0</td>\n",
       "    </tr>\n",
       "    <tr>\n",
       "      <th>1003</th>\n",
       "      <td>Barber Of Seville (Album)</td>\n",
       "      <td>NaN</td>\n",
       "      <td>NaN</td>\n",
       "      <td>NaN</td>\n",
       "      <td>NaN</td>\n",
       "      <td>NaN</td>\n",
       "      <td>0</td>\n",
       "    </tr>\n",
       "  </tbody>\n",
       "</table>\n",
       "<p>26463 rows × 7 columns</p>\n",
       "</div>"
      ],
      "text/plain": [
       "                                   Song Name    Artist Name       Album Name  \\\n",
       "0                            About Damn Time          Lizzo  About Damn Time   \n",
       "1                              Harry's House   Harry Styles              NaN   \n",
       "2                             JUST LIKE THAT  subhash nandu   JUST LIKE THAT   \n",
       "3                                 Samara Joy            NaN              NaN   \n",
       "4                                 Easy On Me          Adele       Easy On Me   \n",
       "...                                      ...            ...              ...   \n",
       "999           Victoria: Requiem Mass (Album)            NaN              NaN   \n",
       "1000        Puccini: Madam Butterfly (Album)            NaN              NaN   \n",
       "1001  Donizetti: Lucia De Lammermoor (Album)            NaN              NaN   \n",
       "1002                 Barber: Vanessa (Album)            NaN              NaN   \n",
       "1003               Barber Of Seville (Album)            NaN              NaN   \n",
       "\n",
       "     Release Date  Popularity Score  Length (ms)  Grammy_won  \n",
       "0      2022-04-14              81.0     191822.0           1  \n",
       "1             NaN               NaN          NaN           1  \n",
       "2      2023-01-01               5.0     104260.0           1  \n",
       "3             NaN               NaN          NaN           1  \n",
       "4      2021-10-14              81.0     224694.0           1  \n",
       "...           ...               ...          ...         ...  \n",
       "999           NaN               NaN          NaN           0  \n",
       "1000          NaN               NaN          NaN           0  \n",
       "1001          NaN               NaN          NaN           0  \n",
       "1002          NaN               NaN          NaN           0  \n",
       "1003          NaN               NaN          NaN           0  \n",
       "\n",
       "[26463 rows x 7 columns]"
      ]
     },
     "execution_count": 55,
     "metadata": {},
     "output_type": "execute_result"
    }
   ],
   "source": [
    "df1"
   ]
  },
  {
   "cell_type": "code",
   "execution_count": 56,
   "id": "e7837b95",
   "metadata": {},
   "outputs": [],
   "source": [
    "Major = pd.read_csv(\"TotalDataFrame.csv\")\n"
   ]
  },
  {
   "cell_type": "code",
   "execution_count": 57,
   "id": "4336682c",
   "metadata": {},
   "outputs": [
    {
     "name": "stdout",
     "output_type": "stream",
     "text": [
      "<class 'pandas.core.frame.DataFrame'>\n",
      "RangeIndex: 26463 entries, 0 to 26462\n",
      "Data columns (total 8 columns):\n",
      " #   Column            Non-Null Count  Dtype  \n",
      "---  ------            --------------  -----  \n",
      " 0   Unnamed: 0        26463 non-null  int64  \n",
      " 1   Song Name         26442 non-null  object \n",
      " 2   Artist Name       15867 non-null  object \n",
      " 3   Album Name        7828 non-null   object \n",
      " 4   Release Date      7828 non-null   object \n",
      " 5   Popularity Score  7828 non-null   float64\n",
      " 6   Length (ms)       7828 non-null   float64\n",
      " 7   Grammy_won        26463 non-null  int64  \n",
      "dtypes: float64(2), int64(2), object(4)\n",
      "memory usage: 1.6+ MB\n"
     ]
    }
   ],
   "source": [
    "Major.info()"
   ]
  },
  {
   "cell_type": "code",
   "execution_count": 58,
   "id": "ef72039b",
   "metadata": {},
   "outputs": [],
   "source": [
    "#cleaning the major data frame"
   ]
  },
  {
   "cell_type": "code",
   "execution_count": 59,
   "id": "fef65a95",
   "metadata": {},
   "outputs": [
    {
     "data": {
      "text/html": [
       "<div>\n",
       "<style scoped>\n",
       "    .dataframe tbody tr th:only-of-type {\n",
       "        vertical-align: middle;\n",
       "    }\n",
       "\n",
       "    .dataframe tbody tr th {\n",
       "        vertical-align: top;\n",
       "    }\n",
       "\n",
       "    .dataframe thead th {\n",
       "        text-align: right;\n",
       "    }\n",
       "</style>\n",
       "<table border=\"1\" class=\"dataframe\">\n",
       "  <thead>\n",
       "    <tr style=\"text-align: right;\">\n",
       "      <th></th>\n",
       "      <th>Unnamed: 0</th>\n",
       "      <th>Popularity Score</th>\n",
       "      <th>Length (ms)</th>\n",
       "      <th>Grammy_won</th>\n",
       "    </tr>\n",
       "  </thead>\n",
       "  <tbody>\n",
       "    <tr>\n",
       "      <th>count</th>\n",
       "      <td>26463.000000</td>\n",
       "      <td>7828.000000</td>\n",
       "      <td>7.828000e+03</td>\n",
       "      <td>26463.000000</td>\n",
       "    </tr>\n",
       "    <tr>\n",
       "      <th>mean</th>\n",
       "      <td>1472.070060</td>\n",
       "      <td>29.844405</td>\n",
       "      <td>2.483597e+05</td>\n",
       "      <td>0.193440</td>\n",
       "    </tr>\n",
       "    <tr>\n",
       "      <th>std</th>\n",
       "      <td>1234.492026</td>\n",
       "      <td>24.847619</td>\n",
       "      <td>1.628933e+05</td>\n",
       "      <td>0.395002</td>\n",
       "    </tr>\n",
       "    <tr>\n",
       "      <th>min</th>\n",
       "      <td>0.000000</td>\n",
       "      <td>0.000000</td>\n",
       "      <td>4.000000e+03</td>\n",
       "      <td>0.000000</td>\n",
       "    </tr>\n",
       "    <tr>\n",
       "      <th>25%</th>\n",
       "      <td>551.000000</td>\n",
       "      <td>6.000000</td>\n",
       "      <td>1.874310e+05</td>\n",
       "      <td>0.000000</td>\n",
       "    </tr>\n",
       "    <tr>\n",
       "      <th>50%</th>\n",
       "      <td>1122.000000</td>\n",
       "      <td>27.000000</td>\n",
       "      <td>2.291430e+05</td>\n",
       "      <td>0.000000</td>\n",
       "    </tr>\n",
       "    <tr>\n",
       "      <th>75%</th>\n",
       "      <td>1971.500000</td>\n",
       "      <td>49.000000</td>\n",
       "      <td>2.755765e+05</td>\n",
       "      <td>0.000000</td>\n",
       "    </tr>\n",
       "    <tr>\n",
       "      <th>max</th>\n",
       "      <td>5218.000000</td>\n",
       "      <td>92.000000</td>\n",
       "      <td>4.726827e+06</td>\n",
       "      <td>1.000000</td>\n",
       "    </tr>\n",
       "  </tbody>\n",
       "</table>\n",
       "</div>"
      ],
      "text/plain": [
       "         Unnamed: 0  Popularity Score   Length (ms)    Grammy_won\n",
       "count  26463.000000       7828.000000  7.828000e+03  26463.000000\n",
       "mean    1472.070060         29.844405  2.483597e+05      0.193440\n",
       "std     1234.492026         24.847619  1.628933e+05      0.395002\n",
       "min        0.000000          0.000000  4.000000e+03      0.000000\n",
       "25%      551.000000          6.000000  1.874310e+05      0.000000\n",
       "50%     1122.000000         27.000000  2.291430e+05      0.000000\n",
       "75%     1971.500000         49.000000  2.755765e+05      0.000000\n",
       "max     5218.000000         92.000000  4.726827e+06      1.000000"
      ]
     },
     "execution_count": 59,
     "metadata": {},
     "output_type": "execute_result"
    }
   ],
   "source": [
    "Major.describe()"
   ]
  },
  {
   "cell_type": "code",
   "execution_count": 60,
   "id": "f3e22ffd",
   "metadata": {},
   "outputs": [],
   "source": [
    "# fig, axes = plt.subplots(nrows=1, ncols=2, figsize=(15,5))\n",
    "\n",
    "# df[\"Song Name\"].value_counts().plot(kind = \"pie\", autopct='%.2f%%', ax = axes[0])\n",
    "# axes[0].set_title(\"Percentage of Deals Per District\", size  = 15)\n",
    "\n",
    "# df[\"Popularity Score\"].value_counts().plot(kind = \"pie\", autopct='%.2f%%', ax = axes[1])\n",
    "# axes[1].set_title(\"Percentage of Deals Per Room Number\", size  = 15)"
   ]
  },
  {
   "cell_type": "code",
   "execution_count": 61,
   "id": "cdc7120a",
   "metadata": {},
   "outputs": [],
   "source": [
    "Major.to_csv(\"Grammy_Spotify_full_data.csv\", index=False)"
   ]
  },
  {
   "cell_type": "code",
   "execution_count": null,
   "id": "64bb125d",
   "metadata": {},
   "outputs": [],
   "source": []
  }
 ],
 "metadata": {
  "kernelspec": {
   "display_name": "Python 3 (ipykernel)",
   "language": "python",
   "name": "python3"
  },
  "language_info": {
   "codemirror_mode": {
    "name": "ipython",
    "version": 3
   },
   "file_extension": ".py",
   "mimetype": "text/x-python",
   "name": "python",
   "nbconvert_exporter": "python",
   "pygments_lexer": "ipython3",
   "version": "3.9.13"
  }
 },
 "nbformat": 4,
 "nbformat_minor": 5
}
